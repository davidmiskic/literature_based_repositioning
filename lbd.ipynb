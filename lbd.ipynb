{
 "cells": [
  {
   "cell_type": "code",
   "execution_count": 2,
   "metadata": {},
   "outputs": [],
   "source": [
    "import json\n",
    "import string\n",
    "import pandas as pd\n",
    "import nltk\n",
    "from Bio import Entrez\n",
    "import requests"
   ]
  },
  {
   "cell_type": "markdown",
   "metadata": {},
   "source": [
    "## Read data"
   ]
  },
  {
   "cell_type": "code",
   "execution_count": 3,
   "metadata": {
    "pycharm": {
     "name": "#%%\n"
    }
   },
   "outputs": [
    {
     "name": "stdout",
     "output_type": "stream",
     "text": [
      "Wall time: 7.62 s\n"
     ]
    }
   ],
   "source": [
    "%%time\n",
    "# confirmed genes\n",
    "#with open(\"cancer_category_rna_prostate.json\") as f: genes = json.load(f)\n",
    "#with open(\"rheumatoid.json\") as f: genes = json.load(f)\n",
    "with open(\"Atherosclerosis.json\") as f: genes = json.load(f)\n",
    "\n",
    "# all gene-drug interactions from TTD\n",
    "all_gene_drug = pd.read_excel(\"P1-07-Drug-TargetMapping.xlsx\", dtype=\"string\")"
   ]
  },
  {
   "cell_type": "code",
   "execution_count": 4,
   "metadata": {},
   "outputs": [
    {
     "data": {
      "text/plain": [
       "43874"
      ]
     },
     "execution_count": 4,
     "metadata": {},
     "output_type": "execute_result"
    }
   ],
   "source": [
    "all_drugs_TTD = list(all_gene_drug.Drug_Name)\n",
    "len(all_drugs_TTD)"
   ]
  },
  {
   "cell_type": "code",
   "execution_count": 5,
   "metadata": {},
   "outputs": [
    {
     "data": {
      "text/plain": [
       "57497"
      ]
     },
     "execution_count": 5,
     "metadata": {},
     "output_type": "execute_result"
    }
   ],
   "source": [
    "all_drugs_dgidb = pd.read_csv(\"drugs_dgidb.tsv\", dtype=\"string\", delimiter=\"\\t\", encoding='latin1')\n",
    "all_drugs_dgidb = all_drugs_dgidb.fillna('')\n",
    "all_drugs_dgidb[\"name\"] = all_drugs_dgidb.drug_claim_name + \"|\" + all_drugs_dgidb.drug_name\n",
    "all_drugs_dgidb = list(all_drugs_dgidb.name)\n",
    "for i in range(len(all_drugs_dgidb)):\n",
    "    if all_drugs_dgidb[i].startswith(\"|\"): all_drugs_dgidb[i] = all_drugs_dgidb[i][1:]\n",
    "    if all_drugs_dgidb[i].startswith(\"chembl:\"): all_drugs_dgidb[i] = all_drugs_dgidb[i][7:]\n",
    "    if all_drugs_dgidb[i].endswith(\"|\")  : all_drugs_dgidb[i] = all_drugs_dgidb[i][:-1]\n",
    "len(all_drugs_dgidb)"
   ]
  },
  {
   "cell_type": "code",
   "execution_count": 6,
   "metadata": {},
   "outputs": [
    {
     "name": "stderr",
     "output_type": "stream",
     "text": [
      "100%|███████████████████████████████████████████████████████████████████████████| 57497/57497 [02:57<00:00, 324.15it/s]\n"
     ]
    }
   ],
   "source": [
    "from tqdm import tqdm\n",
    "for item in tqdm(all_drugs_dgidb):\n",
    "    if not(item in all_drugs_TTD or item.lower() in all_drugs_TTD):\n",
    "        all_drugs_TTD.append(item)"
   ]
  },
  {
   "cell_type": "code",
   "execution_count": 43,
   "metadata": {},
   "outputs": [
    {
     "name": "stdout",
     "output_type": "stream",
     "text": [
      "Luspaterceptâaamt\n",
      "Primaquine ÃÂ \n",
      "LuspaterceptÃ¢ÂÂaamt\n",
      "Erdafitinib ÃÂ \n"
     ]
    }
   ],
   "source": [
    "with open('all_drugs.txt', 'w') as outfile:\n",
    "    cnt = 0\n",
    "    for drug in all_drugs_TTD:\n",
    "        if len(drug) > 3:\n",
    "            try:\n",
    "                outfile.write(\"DRUG_\" +  str(cnt) + \"\\t\" + drug + \"\\n\")\n",
    "            except:\n",
    "                print(drug)\n",
    "            cnt+=1"
   ]
  },
  {
   "cell_type": "markdown",
   "metadata": {},
   "source": [
    "## Extract relevant data and write to file"
   ]
  },
  {
   "cell_type": "code",
   "execution_count": 7,
   "metadata": {
    "pycharm": {
     "name": "#%%\n"
    }
   },
   "outputs": [],
   "source": [
    "gene_names = [ [item[\"Gene\"]] + item[\"Gene synonym\"] for item in genes]\n",
    "# remove duplicates\n",
    "gene_names = [list(set(i)) for i in gene_names]"
   ]
  },
  {
   "cell_type": "code",
   "execution_count": 10,
   "metadata": {
    "pycharm": {
     "name": "#%%\n"
    }
   },
   "outputs": [
    {
     "name": "stdout",
     "output_type": "stream",
     "text": [
      "52\n",
      "27\n",
      "76\n"
     ]
    }
   ],
   "source": [
    "ttdgenes = []\n",
    "with open(\"P1-06-Target_disease.txt\") as f:\n",
    "    a = f.readline()\n",
    "    while a:\n",
    "        if len(a) > 0 and \"TARGETID\" in a:\n",
    "            gene = f.readline()\n",
    "            gene = gene.split(\"(\")[-1].split(\")\")[0].split(\" \")[0]\n",
    "            interaction = f.readline()\n",
    "            while len(interaction) > 0 and interaction[0] == \"T\":\n",
    "                if \"Atherosclerosis\" in interaction or \"Arteriosclerosis\" in interaction:\n",
    "                    ttdgenes.append(gene)\n",
    "                interaction = f.readline()\n",
    "            a = f.readline()\n",
    "        else: a = f.readline()\n",
    "    print(len(ttdgenes))\n",
    "\n",
    "print(len(gene_names))\n",
    "for g in ttdgenes:\n",
    "    #print(g, any([g in gene for gene in gene_names]))\n",
    "    if not any([g in gene for gene in gene_names]):\n",
    "        gene_names.append([g])\n",
    "print(len(gene_names))"
   ]
  },
  {
   "cell_type": "code",
   "execution_count": null,
   "metadata": {
    "pycharm": {
     "name": "#%%\n"
    }
   },
   "outputs": [],
   "source": [
    "# make a dictionary of gene-drug interactions\n",
    "gene_drug = {}\n",
    "for name in gene_names:\n",
    "    searchString = \"\"\n",
    "    stname = \"|\".join(name)\n",
    "    for i in range(len(name)):\n",
    "        searchString += \"(\" + name[i] + \"[Title/Abstract])\" # for entrez search\n",
    "        if i < len(name)-1: searchString += \" OR \"\n",
    "    x = all_gene_drug.loc[all_gene_drug[\"Target_Name\"].str.contains(stname)]\n",
    "    gene_drug[name[-1]] = {}\n",
    "    gene_drug[name[-1]][\"synonyms\"] = name[:-1]\n",
    "    gene_drug[name[-1]][\"DrugID\"] = x[\"DrugID\"].values\n",
    "    gene_drug[name[-1]][\"Drug_Name\"] = x[\"Drug_Name\"].values\n",
    "    gene_drug[name[-1]][\"Highest_status\"] = x[\"Highest_status\"].values\n",
    "    gene_drug[name[-1]][\"MOA\"] = x[\"MOA\"].values\n",
    "    gene_drug[name[-1]][\"entrezQuery\"] = searchString"
   ]
  },
  {
   "cell_type": "code",
   "execution_count": 12,
   "metadata": {
    "pycharm": {
     "name": "#%%\n"
    }
   },
   "outputs": [],
   "source": [
    "# make a list of drugs for disease genes\n",
    "drugs = set()\n",
    "for gene in gene_drug.keys():\n",
    "    for drug in gene_drug[gene][\"Drug_Name\"]:\n",
    "        drugs.add(drug)"
   ]
  },
  {
   "cell_type": "code",
   "execution_count": 13,
   "metadata": {
    "pycharm": {
     "name": "#%%\n"
    }
   },
   "outputs": [],
   "source": [
    "#with open('prostateCancer_genes.txt', 'w') as outfile:\n",
    "#with open('rheumatoidArthritis_genes.txt', 'w') as outfile:\n",
    "with open('atherosclerosis_genes.txt', 'w') as outfile:\n",
    "    cnt = 0\n",
    "    for genes in gene_names:\n",
    "        outfile.write(\"GENE_\" +  str(cnt) + \"\\t\" + \"|\".join(genes) + \"\\n\")\n",
    "        cnt+=1"
   ]
  },
  {
   "cell_type": "code",
   "execution_count": 14,
   "metadata": {
    "pycharm": {
     "name": "#%%\n"
    }
   },
   "outputs": [],
   "source": [
    "#with open('prostateCancer_drugs_TTD.txt', 'w') as outfile:\n",
    "# with open('rheumatoidArthritis_drugs_TTD.txt', 'w') as outfile:\n",
    "with open('atherosclerosis_drugs_TTD.txt', 'w') as outfile:\n",
    "    cnt = 0\n",
    "    for drug in drugs:\n",
    "        outfile.write(\"DRUG_\" +  str(cnt) + \"\\t\" + drug + \"\\n\")\n",
    "        cnt+=1"
   ]
  },
  {
   "cell_type": "code",
   "execution_count": 15,
   "metadata": {},
   "outputs": [],
   "source": [
    "all_genes = [\",\".join(genelist) for genelist in gene_names]\n",
    "all_genes = \",\".join(all_genes)"
   ]
  },
  {
   "cell_type": "code",
   "execution_count": null,
   "metadata": {},
   "outputs": [],
   "source": [
    "URL = \"https://www.dgidb.org/api/v2/interactions.json\"\n",
    "r = requests.get(url = URL + \"?genes=\" + all_genes)\n",
    "print(r.url)\n",
    "data = r.json()"
   ]
  },
  {
   "cell_type": "code",
   "execution_count": 17,
   "metadata": {},
   "outputs": [],
   "source": [
    "drug_genes_dgidb = {}\n",
    "for key in ['matchedTerms', 'ambiguousTerms']:\n",
    "    for hit in data[key]:\n",
    "        drug_genes_dgidb[hit[\"searchTerm\"]] = {\"drugs\": [], \"MOA\": []}\n",
    "        for interaction in hit[\"interactions\"]:\n",
    "            drug_genes_dgidb[hit[\"searchTerm\"]][\"drugs\"].append(interaction[\"drugName\"])\n",
    "            drug_genes_dgidb[hit[\"searchTerm\"]][\"MOA\"].append(\",\".join(interaction[\"interactionTypes\"]))"
   ]
  },
  {
   "cell_type": "code",
   "execution_count": 18,
   "metadata": {
    "pycharm": {
     "name": "#%%\n"
    }
   },
   "outputs": [
    {
     "name": "stdout",
     "output_type": "stream",
     "text": [
      "1724\n"
     ]
    }
   ],
   "source": [
    "drugs_dgidb = {}\n",
    "for key in ['matchedTerms', 'ambiguousTerms']:\n",
    "    for hit in data[key]:\n",
    "        for interaction in hit[\"interactions\"]:\n",
    "            drugs_dgidb[interaction[\"drugName\"]] = interaction[\"interactionTypes\"]\n",
    "print(len(drugs_dgidb))"
   ]
  },
  {
   "cell_type": "code",
   "execution_count": null,
   "metadata": {
    "pycharm": {
     "name": "#%%\n"
    }
   },
   "outputs": [],
   "source": [
    "data[\"unmatchedTerms\"]"
   ]
  },
  {
   "cell_type": "code",
   "execution_count": 19,
   "metadata": {
    "pycharm": {
     "name": "#%%\n"
    }
   },
   "outputs": [],
   "source": [
    "all_drugs = [i for i in drugs]\n",
    "for item in drugs_dgidb.keys():\n",
    "    if item not in all_drugs or item.lower() not in all_drugs:\n",
    "        all_drugs.append(item)"
   ]
  },
  {
   "cell_type": "code",
   "execution_count": 20,
   "metadata": {
    "pycharm": {
     "name": "#%%\n"
    }
   },
   "outputs": [],
   "source": [
    "#with open('prostateCancer_drugs_dgidb.txt', 'w') as outfile:\n",
    "# with open('rheumatoidArthritis_drugs_dgidb.txt', 'w') as outfile:\n",
    "with open('atherosclerosis_drugs_dgidb.txt', 'w') as outfile:\n",
    "    cnt = 0\n",
    "    for drug in drugs_dgidb.keys():\n",
    "        outfile.write(\"DRUG_\" +  str(cnt) + \"\\t\" + drug + \"\\n\")\n",
    "        cnt+=1\n",
    "#with open('prostateCancer_drugs_TTDandDgidb.txt', 'w') as outfile:\n",
    "# with open('rheumatoidArthritis_drugs_TTDandDgidb.txt', 'w') as outfile:\n",
    "with open('atherosclerosis_drugs_TTDandDgidb.txt', 'w') as outfile:\n",
    "    cnt = 0\n",
    "    for drug in all_drugs:\n",
    "        outfile.write(\"DRUG_\" +  str(cnt) + \"\\t\" + drug + \"\\n\")\n",
    "        cnt+=1"
   ]
  },
  {
   "cell_type": "markdown",
   "metadata": {},
   "source": [
    "### Graph vizualization"
   ]
  },
  {
   "cell_type": "code",
   "execution_count": null,
   "metadata": {
    "pycharm": {
     "name": "#%%\n"
    }
   },
   "outputs": [],
   "source": [
    "# MOA field for mechanism, gene has list of drugs and list of mechanisms\n",
    "#gene_drug[\"KLK3\"]\n",
    "# gene: list of drugs and list of mechanisms\n",
    "# drug_genes_dgidb\n",
    "\n",
    "# n, geneString, list of drugs and list of mechanisms\n",
    "gene_drug_dict = {}\n",
    "ind = 0\n",
    "for gene in gene_drug.keys():\n",
    "    lookup = [gene] + gene_drug[gene][\"synonyms\"]\n",
    "    combinedDrugs = list(gene_drug[gene][\"Drug_Name\"])\n",
    "    combinedMechanisms = list(gene_drug[gene][\"MOA\"])\n",
    "    for g in lookup:\n",
    "        if g in drug_genes_dgidb.keys():\n",
    "            otherDrugs = drug_genes_dgidb[g][\"drugs\"]\n",
    "            otherMOA = drug_genes_dgidb[g][\"MOA\"]\n",
    "            for i in range(len(otherMOA)):\n",
    "                if otherDrugs[i].lower() in combinedDrugs or otherDrugs[i] in combinedDrugs: \n",
    "                    # combine mechanisms\n",
    "                    try: j = combinedDrugs.index(otherDrugs[i].lower())\n",
    "                    except: j = combinedDrugs.index(otherDrugs[i])\n",
    "                    if otherMOA[i] != \"\": combinedMechanisms[j] = combinedMechanisms[j] + \", \" + otherMOA[i]\n",
    "                else:\n",
    "                    combinedDrugs.append(otherDrugs[i])\n",
    "                    if otherMOA[i] == \"\": combinedMechanisms.append(\".\")\n",
    "                    combinedMechanisms.append(otherMOA[i])\n",
    "    gene_drug_dict[ind] = {}    \n",
    "    gene_drug_dict[ind][\"genes\"] = \"|\".join(lookup)\n",
    "    gene_drug_dict[ind][\"drugs\"] = combinedDrugs\n",
    "    gene_drug_dict[ind][\"MOA\"] = combinedMechanisms\n",
    "    ind+=1\n",
    "# want to make: drugs and genes as nodes, mechanism as link"
   ]
  },
  {
   "cell_type": "code",
   "execution_count": null,
   "metadata": {
    "pycharm": {
     "name": "#%%\n"
    }
   },
   "outputs": [],
   "source": [
    "gene_drug_dict"
   ]
  },
  {
   "cell_type": "markdown",
   "metadata": {},
   "source": [
    "## Visualize as network"
   ]
  },
  {
   "cell_type": "code",
   "execution_count": null,
   "metadata": {
    "pycharm": {
     "name": "#%%\n"
    }
   },
   "outputs": [],
   "source": [
    "import networkx as nx\n",
    "G = nx.Graph()\n",
    "for gene in gene_drug.keys():\n",
    "    for drug in gene_drug[gene][\"Drug_Name\"]:\n",
    "        G.add_edge(gene, drug)\n",
    "\n",
    "nx.write_gexf(G, \"test.gexf\")"
   ]
  },
  {
   "cell_type": "code",
   "execution_count": null,
   "metadata": {
    "pycharm": {
     "name": "#%%\n"
    }
   },
   "outputs": [],
   "source": [
    "import networkx as nx\n",
    "import matplotlib.pyplot as plt\n",
    "def visualizegraph(G):\n",
    "    pos = nx.spring_layout(G)\n",
    "    nx.draw_networkx(G, pos)\n",
    "    labels = nx.get_edge_attributes(G, 'moa')\n",
    "    #print(labels)\n",
    "    nx.draw_networkx_edge_labels(G, pos, edge_labels=labels)\n",
    "    plt.savefig(\"graph.jpg\", dpi=10)\n",
    "    #plt.show()\n",
    "\n",
    "G2 = nx.Graph()\n",
    "for node in gene_drug_dict.keys():\n",
    "    for i in range(len(gene_drug_dict[node][\"drugs\"])):\n",
    "        G2.add_edge(gene_drug_dict[node][\"genes\"], gene_drug_dict[node][\"drugs\"][i])\n",
    "        G2[gene_drug_dict[node][\"genes\"]][gene_drug_dict[node][\"drugs\"][i]]['moa'] = gene_drug_dict[node][\"MOA\"][i]\n",
    "\n",
    "nx.write_gexf(G2, \"GRAPH_gene_drug_MOA.gexf\")"
   ]
  },
  {
   "cell_type": "code",
   "execution_count": null,
   "metadata": {
    "pycharm": {
     "name": "#%%\n"
    }
   },
   "outputs": [],
   "source": [
    "a = list(G2['Anti-PSA mabs'])\n",
    "print(G2['Anti-PSA mabs'])\n",
    "b = G2.subgraph(a)\n",
    "print(b.edges(data=True))\n",
    "visualizegraph(G2)"
   ]
  }
 ],
 "metadata": {
  "kernelspec": {
   "display_name": "Python 3",
   "language": "python",
   "name": "python3"
  },
  "language_info": {
   "codemirror_mode": {
    "name": "ipython",
    "version": 3
   },
   "file_extension": ".py",
   "mimetype": "text/x-python",
   "name": "python",
   "nbconvert_exporter": "python",
   "pygments_lexer": "ipython3",
   "version": "3.8.5"
  }
 },
 "nbformat": 4,
 "nbformat_minor": 1
}
